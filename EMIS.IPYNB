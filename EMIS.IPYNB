{
 "cells": [
  {
   "attachments": {},
   "cell_type": "markdown",
   "metadata": {},
   "source": [
    "## Section 1 - Imports"
   ]
  },
  {
   "cell_type": "code",
   "execution_count": 3,
   "metadata": {},
   "outputs": [],
   "source": [
    "import pandas as pd # For Data Manipulation of Numerical Yables and Time Series \n",
    "import numpy as np # For Mathematical operations on arrays\n",
    "import sklearn\n",
    "import warnings\n",
    "import matplotlib as plt "
   ]
  },
  {
   "attachments": {},
   "cell_type": "markdown",
   "metadata": {},
   "source": [
    "## Section 2 - Data loading"
   ]
  },
  {
   "cell_type": "code",
   "execution_count": 4,
   "metadata": {},
   "outputs": [],
   "source": [
    "patient = pd.read_csv('data/patient.csv', encoding='utf-8', engine='python')\n",
    "clinical_codes = pd.read_csv('data/clinical_codes.csv', encoding='utf-8', engine='python')\n",
    "medication = pd.read_csv('data/medication/medication.csv', encoding='utf-8', engine='python')\n",
    "observation = pd.read_csv('data/observation/observation.csv', encoding='utf-8', engine='python')\n"
   ]
  },
  {
   "attachments": {},
   "cell_type": "markdown",
   "metadata": {},
   "source": [
    "## Section 2 ai- Visualise Top of Patient table"
   ]
  },
  {
   "cell_type": "code",
   "execution_count": 9,
   "metadata": {},
   "outputs": [
    {
     "data": {
      "text/html": [
       "<div>\n",
       "<style scoped>\n",
       "    .dataframe tbody tr th:only-of-type {\n",
       "        vertical-align: middle;\n",
       "    }\n",
       "\n",
       "    .dataframe tbody tr th {\n",
       "        vertical-align: top;\n",
       "    }\n",
       "\n",
       "    .dataframe thead th {\n",
       "        text-align: right;\n",
       "    }\n",
       "</style>\n",
       "<table border=\"1\" class=\"dataframe\">\n",
       "  <thead>\n",
       "    <tr style=\"text-align: right;\">\n",
       "      <th></th>\n",
       "      <th>age</th>\n",
       "      <th>postcode</th>\n",
       "      <th>patient_surname</th>\n",
       "      <th>patient_givenname</th>\n",
       "      <th>date_of_birth</th>\n",
       "      <th>date_of_death</th>\n",
       "      <th>registration_guid</th>\n",
       "      <th>patient_id</th>\n",
       "      <th>gender</th>\n",
       "    </tr>\n",
       "  </thead>\n",
       "  <tbody>\n",
       "    <tr>\n",
       "      <th>0</th>\n",
       "      <td>0</td>\n",
       "      <td>HX2 8WG</td>\n",
       "      <td>Bibi</td>\n",
       "      <td>Maureen</td>\n",
       "      <td>2023-02-11 00:00:00</td>\n",
       "      <td>NaN</td>\n",
       "      <td>9A70C9CD-D0F7-43F3-A05C-34C8F192E00C</td>\n",
       "      <td>10457</td>\n",
       "      <td>Female</td>\n",
       "    </tr>\n",
       "    <tr>\n",
       "      <th>1</th>\n",
       "      <td>0</td>\n",
       "      <td>LS10 8MH</td>\n",
       "      <td>O'Brien</td>\n",
       "      <td>Karen</td>\n",
       "      <td>2022-11-08 00:00:00</td>\n",
       "      <td>NaN</td>\n",
       "      <td>57E3019C-25E6-4591-AA6D-3139AF37DC3F</td>\n",
       "      <td>11488</td>\n",
       "      <td>Female</td>\n",
       "    </tr>\n",
       "    <tr>\n",
       "      <th>2</th>\n",
       "      <td>0</td>\n",
       "      <td>WF17 2XU</td>\n",
       "      <td>Turner</td>\n",
       "      <td>Mark</td>\n",
       "      <td>2023-01-28 00:00:00</td>\n",
       "      <td>NaN</td>\n",
       "      <td>A1700F02-134E-42FF-B537-1B7DA00F8C25</td>\n",
       "      <td>9844</td>\n",
       "      <td>Male</td>\n",
       "    </tr>\n",
       "    <tr>\n",
       "      <th>3</th>\n",
       "      <td>0</td>\n",
       "      <td>WF13 3RJ</td>\n",
       "      <td>Law</td>\n",
       "      <td>Frederick</td>\n",
       "      <td>2022-12-05 00:00:00</td>\n",
       "      <td>NaN</td>\n",
       "      <td>CEDE39B9-9261-4B21-9E07-92D4308E87D5</td>\n",
       "      <td>9972</td>\n",
       "      <td>Male</td>\n",
       "    </tr>\n",
       "    <tr>\n",
       "      <th>4</th>\n",
       "      <td>0</td>\n",
       "      <td>LS99 9ZZ</td>\n",
       "      <td>Connor</td>\n",
       "      <td>Emerald</td>\n",
       "      <td>2022-11-17 00:00:00</td>\n",
       "      <td>NaN</td>\n",
       "      <td>9532DEBE-42CC-40E4-820A-55DF603E0D23</td>\n",
       "      <td>18955</td>\n",
       "      <td>Indeterminate</td>\n",
       "    </tr>\n",
       "  </tbody>\n",
       "</table>\n",
       "</div>"
      ],
      "text/plain": [
       "   age  postcode patient_surname patient_givenname        date_of_birth  \\\n",
       "0    0   HX2 8WG            Bibi           Maureen  2023-02-11 00:00:00   \n",
       "1    0  LS10 8MH         O'Brien             Karen  2022-11-08 00:00:00   \n",
       "2    0  WF17 2XU          Turner              Mark  2023-01-28 00:00:00   \n",
       "3    0  WF13 3RJ             Law         Frederick  2022-12-05 00:00:00   \n",
       "4    0  LS99 9ZZ          Connor           Emerald  2022-11-17 00:00:00   \n",
       "\n",
       "  date_of_death                     registration_guid  patient_id  \\\n",
       "0           NaN  9A70C9CD-D0F7-43F3-A05C-34C8F192E00C       10457   \n",
       "1           NaN  57E3019C-25E6-4591-AA6D-3139AF37DC3F       11488   \n",
       "2           NaN  A1700F02-134E-42FF-B537-1B7DA00F8C25        9844   \n",
       "3           NaN  CEDE39B9-9261-4B21-9E07-92D4308E87D5        9972   \n",
       "4           NaN  9532DEBE-42CC-40E4-820A-55DF603E0D23       18955   \n",
       "\n",
       "          gender  \n",
       "0         Female  \n",
       "1         Female  \n",
       "2           Male  \n",
       "3           Male  \n",
       "4  Indeterminate  "
      ]
     },
     "execution_count": 9,
     "metadata": {},
     "output_type": "execute_result"
    }
   ],
   "source": [
    "patient.drop(columns=[\"Unnamed: 0\"], inplace=True, errors='ignore')\n",
    "patient.head()\n"
   ]
  },
  {
   "attachments": {},
   "cell_type": "markdown",
   "metadata": {},
   "source": [
    "## Section 2 aii - Visualise Bottom of Patient table"
   ]
  },
  {
   "cell_type": "code",
   "execution_count": 10,
   "metadata": {},
   "outputs": [
    {
     "data": {
      "text/html": [
       "<div>\n",
       "<style scoped>\n",
       "    .dataframe tbody tr th:only-of-type {\n",
       "        vertical-align: middle;\n",
       "    }\n",
       "\n",
       "    .dataframe tbody tr th {\n",
       "        vertical-align: top;\n",
       "    }\n",
       "\n",
       "    .dataframe thead th {\n",
       "        text-align: right;\n",
       "    }\n",
       "</style>\n",
       "<table border=\"1\" class=\"dataframe\">\n",
       "  <thead>\n",
       "    <tr style=\"text-align: right;\">\n",
       "      <th></th>\n",
       "      <th>age</th>\n",
       "      <th>postcode</th>\n",
       "      <th>patient_surname</th>\n",
       "      <th>patient_givenname</th>\n",
       "      <th>date_of_birth</th>\n",
       "      <th>date_of_death</th>\n",
       "      <th>registration_guid</th>\n",
       "      <th>patient_id</th>\n",
       "      <th>gender</th>\n",
       "    </tr>\n",
       "  </thead>\n",
       "  <tbody>\n",
       "    <tr>\n",
       "      <th>4538</th>\n",
       "      <td>0</td>\n",
       "      <td>LS99 9ZZ</td>\n",
       "      <td>Lyons</td>\n",
       "      <td>Ahmir</td>\n",
       "      <td>2023-01-08 00:00:00</td>\n",
       "      <td>NaN</td>\n",
       "      <td>61CE65F5-271B-4151-8700-70DE00CC0A9B</td>\n",
       "      <td>29589</td>\n",
       "      <td>Female</td>\n",
       "    </tr>\n",
       "    <tr>\n",
       "      <th>4539</th>\n",
       "      <td>0</td>\n",
       "      <td>LS99 9ZZ</td>\n",
       "      <td>Williamson</td>\n",
       "      <td>Cyrus</td>\n",
       "      <td>2023-02-09 00:00:00</td>\n",
       "      <td>NaN</td>\n",
       "      <td>4C16CFF4-520C-4B1C-8B03-9B214BDFAC76</td>\n",
       "      <td>19592</td>\n",
       "      <td>Female</td>\n",
       "    </tr>\n",
       "    <tr>\n",
       "      <th>4540</th>\n",
       "      <td>0</td>\n",
       "      <td>LS99 9ZZ</td>\n",
       "      <td>Healy</td>\n",
       "      <td>Kamari</td>\n",
       "      <td>2022-12-10 00:00:00</td>\n",
       "      <td>NaN</td>\n",
       "      <td>21107E5F-CE16-4669-9B6E-43671212E9D0</td>\n",
       "      <td>27505</td>\n",
       "      <td>Indeterminate</td>\n",
       "    </tr>\n",
       "    <tr>\n",
       "      <th>4541</th>\n",
       "      <td>0</td>\n",
       "      <td>LS99 9ZZ</td>\n",
       "      <td>Bolton</td>\n",
       "      <td>Zachariah</td>\n",
       "      <td>2022-11-23 00:00:00</td>\n",
       "      <td>NaN</td>\n",
       "      <td>9F8F0E53-7252-4998-A035-6809941C8A83</td>\n",
       "      <td>30629</td>\n",
       "      <td>Male</td>\n",
       "    </tr>\n",
       "    <tr>\n",
       "      <th>4542</th>\n",
       "      <td>0</td>\n",
       "      <td>LS99 9ZZ</td>\n",
       "      <td>Johnson</td>\n",
       "      <td>Adrianna</td>\n",
       "      <td>2022-12-05 00:00:00</td>\n",
       "      <td>NaN</td>\n",
       "      <td>F2E5C6F8-52B3-477B-83B2-955A9BB227A5</td>\n",
       "      <td>26947</td>\n",
       "      <td>Female</td>\n",
       "    </tr>\n",
       "  </tbody>\n",
       "</table>\n",
       "</div>"
      ],
      "text/plain": [
       "      age  postcode patient_surname patient_givenname        date_of_birth  \\\n",
       "4538    0  LS99 9ZZ           Lyons             Ahmir  2023-01-08 00:00:00   \n",
       "4539    0  LS99 9ZZ      Williamson             Cyrus  2023-02-09 00:00:00   \n",
       "4540    0  LS99 9ZZ           Healy            Kamari  2022-12-10 00:00:00   \n",
       "4541    0  LS99 9ZZ          Bolton         Zachariah  2022-11-23 00:00:00   \n",
       "4542    0  LS99 9ZZ         Johnson          Adrianna  2022-12-05 00:00:00   \n",
       "\n",
       "     date_of_death                     registration_guid  patient_id  \\\n",
       "4538           NaN  61CE65F5-271B-4151-8700-70DE00CC0A9B       29589   \n",
       "4539           NaN  4C16CFF4-520C-4B1C-8B03-9B214BDFAC76       19592   \n",
       "4540           NaN  21107E5F-CE16-4669-9B6E-43671212E9D0       27505   \n",
       "4541           NaN  9F8F0E53-7252-4998-A035-6809941C8A83       30629   \n",
       "4542           NaN  F2E5C6F8-52B3-477B-83B2-955A9BB227A5       26947   \n",
       "\n",
       "             gender  \n",
       "4538         Female  \n",
       "4539         Female  \n",
       "4540  Indeterminate  \n",
       "4541           Male  \n",
       "4542         Female  "
      ]
     },
     "execution_count": 10,
     "metadata": {},
     "output_type": "execute_result"
    }
   ],
   "source": [
    "patient.tail()"
   ]
  },
  {
   "cell_type": "markdown",
   "metadata": {},
   "source": []
  },
  {
   "cell_type": "code",
   "execution_count": 11,
   "metadata": {},
   "outputs": [
    {
     "name": "stdout",
     "output_type": "stream",
     "text": [
      "<class 'pandas.core.frame.DataFrame'>\n",
      "RangeIndex: 4543 entries, 0 to 4542\n",
      "Data columns (total 9 columns):\n",
      " #   Column             Non-Null Count  Dtype \n",
      "---  ------             --------------  ----- \n",
      " 0   age                4543 non-null   int64 \n",
      " 1   postcode           4438 non-null   object\n",
      " 2   patient_surname    4543 non-null   object\n",
      " 3   patient_givenname  4543 non-null   object\n",
      " 4   date_of_birth      4543 non-null   object\n",
      " 5   date_of_death      13 non-null     object\n",
      " 6   registration_guid  4543 non-null   object\n",
      " 7   patient_id         4543 non-null   int64 \n",
      " 8   gender             4543 non-null   object\n",
      "dtypes: int64(2), object(7)\n",
      "memory usage: 319.6+ KB\n"
     ]
    }
   ],
   "source": [
    "patient.info()"
   ]
  },
  {
   "attachments": {},
   "cell_type": "markdown",
   "metadata": {},
   "source": [
    "The `.info()` method creates a data description of the dataframe. It tells us:\n",
    "\n",
    "- How many rows (4543)\n",
    "- How many columns (9)\n",
    "- Column names\n",
    "- How many values are non-null for each column\n",
    "- The types of data contained within each column\n",
    "- The size of the dataset loaded into memory (~319.6KB)\n",
    "\n",
    "Looking at the output of the `.info()` method, we can intepret each column as follows:\n",
    "\n",
    "We can see that there are 3 different datatypes within this dataset:\n",
    "\n",
    "- object = this column contains categorical values\n",
    "- int64 = this column contains integer values (whole numbers)"
   ]
  },
  {
   "cell_type": "markdown",
   "metadata": {},
   "source": []
  }
 ],
 "metadata": {
  "kernelspec": {
   "display_name": "VentilatorPressurePrediction",
   "language": "python",
   "name": "python3"
  },
  "language_info": {
   "codemirror_mode": {
    "name": "ipython",
    "version": 3
   },
   "file_extension": ".py",
   "mimetype": "text/x-python",
   "name": "python",
   "nbconvert_exporter": "python",
   "pygments_lexer": "ipython3",
   "version": "3.7.16"
  },
  "orig_nbformat": 4
 },
 "nbformat": 4,
 "nbformat_minor": 2
}
